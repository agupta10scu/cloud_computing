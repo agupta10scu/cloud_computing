{
  "nbformat": 4,
  "nbformat_minor": 0,
  "metadata": {
    "colab": {
      "name": "Introduction.ipynb",
      "version": "0.3.2",
      "views": {},
      "default_view": {},
      "provenance": []
    },
    "kernelspec": {
      "display_name": "Python 3",
      "language": "python",
      "name": "python3"
    }
  },
  "cells": [
    {
      "metadata": {
        "id": "JgBj3Zk8Ucb4",
        "colab_type": "text"
      },
      "cell_type": "markdown",
      "source": [
        "# If there's something strange in you accounting department, who you gonna call?"
      ]
    },
    {
      "metadata": {
        "id": "65snHCbHUcb6",
        "colab_type": "text"
      },
      "cell_type": "markdown",
      "source": [
        "Some initialization to make life easier."
      ]
    },
    {
      "metadata": {
        "id": "jm8LZPY2WXxT",
        "colab_type": "code",
        "colab": {
          "autoexec": {
            "startup": false,
            "wait_interval": 0
          }
        }
      },
      "cell_type": "code",
      "source": [
        "%matplotlib inline\n",
        "import warnings\n",
        "warnings.filterwarnings('ignore')"
      ],
      "execution_count": 0,
      "outputs": []
    },
    {
      "metadata": {
        "id": "5-x4cevIUcb-",
        "colab_type": "text"
      },
      "cell_type": "markdown",
      "source": [
        "[Pandas](https://pandas.pydata.org) is the most important workhorse in data analytics."
      ]
    },
    {
      "metadata": {
        "id": "x7culpJSUcb_",
        "colab_type": "code",
        "colab": {
          "autoexec": {
            "startup": false,
            "wait_interval": 0
          }
        }
      },
      "cell_type": "code",
      "source": [
        "import pandas as pd"
      ],
      "execution_count": 0,
      "outputs": []
    },
    {
      "metadata": {
        "id": "RvWqILowUccB",
        "colab_type": "text"
      },
      "cell_type": "markdown",
      "source": [
        "We have downloaded two tables from the SAP system:\n",
        "1. The line items are stored in the table `BSEG`\n",
        "2. The header information is stored in the table `BKPF`"
      ]
    },
    {
      "metadata": {
        "id": "3af-kCw7UccC",
        "colab_type": "code",
        "colab": {
          "autoexec": {
            "startup": false,
            "wait_interval": 0
          }
        }
      },
      "cell_type": "code",
      "source": [
        "bseg = pd.read_csv('https://raw.githubusercontent.com/mschermann/forensic_accounting/master/BSEG.csv',low_memory=False)\n",
        "bkpf = pd.read_csv('https://raw.githubusercontent.com/mschermann/forensic_accounting/master/BKPF.csv', low_memory=False)"
      ],
      "execution_count": 0,
      "outputs": []
    },
    {
      "metadata": {
        "id": "bnJ-xdSNUccE",
        "colab_type": "text"
      },
      "cell_type": "markdown",
      "source": [
        "Both tables from with huge numbers of columns."
      ]
    },
    {
      "metadata": {
        "id": "ZPIR8pmtUccF",
        "colab_type": "code",
        "colab": {
          "autoexec": {
            "startup": false,
            "wait_interval": 0
          },
          "base_uri": "https://localhost:8080/",
          "height": 119
        },
        "outputId": "0b9868e3-63bd-4f99-9073-236609c7fb58",
        "executionInfo": {
          "status": "ok",
          "timestamp": 1524249527521,
          "user_tz": 420,
          "elapsed": 319,
          "user": {
            "displayName": "Michael Schermann",
            "photoUrl": "//lh3.googleusercontent.com/-sXyTj9V4mk8/AAAAAAAAAAI/AAAAAAAAAD4/JcGCCFE3xt8/s50-c-k-no/photo.jpg",
            "userId": "115913240975069260630"
          }
        }
      },
      "cell_type": "code",
      "source": [
        "bseg.columns"
      ],
      "execution_count": 55,
      "outputs": [
        {
          "output_type": "execute_result",
          "data": {
            "text/plain": [
              "Index(['Unnamed: 0', 'MANDT', 'BUKRS', 'BELNR', 'GJAHR', 'BUZEI', 'BUZID',\n",
              "       'AUGDT', 'AUGCP', 'AUGBL',\n",
              "       ...\n",
              "       'PEROP_END', 'FASTPAY', 'IGNR_IVREF', 'FMFGUS_KEY', 'FMXDOCNR',\n",
              "       'FMXYEAR', 'FMXDOCLN', 'FMXZEKKN', 'PRODPER', 'RECRF'],\n",
              "      dtype='object', length=337)"
            ]
          },
          "metadata": {
            "tags": []
          },
          "execution_count": 55
        }
      ]
    },
    {
      "metadata": {
        "id": "mNhNph2wWhWw",
        "colab_type": "code",
        "colab": {
          "autoexec": {
            "startup": false,
            "wait_interval": 0
          },
          "base_uri": "https://localhost:8080/",
          "height": 119
        },
        "outputId": "8021650c-5ea8-4d9f-e33d-32d41b347922",
        "executionInfo": {
          "status": "ok",
          "timestamp": 1524249590681,
          "user_tz": 420,
          "elapsed": 273,
          "user": {
            "displayName": "Michael Schermann",
            "photoUrl": "//lh3.googleusercontent.com/-sXyTj9V4mk8/AAAAAAAAAAI/AAAAAAAAAD4/JcGCCFE3xt8/s50-c-k-no/photo.jpg",
            "userId": "115913240975069260630"
          }
        }
      },
      "cell_type": "code",
      "source": [
        "bkpf.columns"
      ],
      "execution_count": 57,
      "outputs": [
        {
          "output_type": "execute_result",
          "data": {
            "text/plain": [
              "Index(['Unnamed: 0', 'MANDT', 'BUKRS', 'BELNR', 'GJAHR', 'BLART', 'BLDAT',\n",
              "       'BUDAT', 'MONAT', 'CPUDT',\n",
              "       ...\n",
              "       'SSBLK', 'BATCH', 'SNAME', 'SAMPLED', 'EXCLUDE_FLAG', 'BLIND',\n",
              "       'OFFSET_STATUS', 'OFFSET_REFER_DAT', 'PENRC', 'KNUMV'],\n",
              "      dtype='object', length=114)"
            ]
          },
          "metadata": {
            "tags": []
          },
          "execution_count": 57
        }
      ]
    },
    {
      "metadata": {
        "id": "pFSFMPMVUccK",
        "colab_type": "text"
      },
      "cell_type": "markdown",
      "source": [
        "You can find the definition of all the columns using the transaction code `SE16`."
      ]
    },
    {
      "metadata": {
        "id": "UOpe_IojXsEd",
        "colab_type": "text"
      },
      "cell_type": "markdown",
      "source": [
        "## BKPF"
      ]
    },
    {
      "metadata": {
        "id": "NM7KSe7LUccM",
        "colab_type": "text"
      },
      "cell_type": "markdown",
      "source": [
        "For our purposes, we use the following columns from `BKPF`:\n",
        "* `BELNR` - That is the financial document number\n",
        "* `BLART` - That is the document type\n",
        "* `USNAM` - That is the user who posted the financial document"
      ]
    },
    {
      "metadata": {
        "id": "aQ_Z0GeOUccM",
        "colab_type": "code",
        "colab": {
          "autoexec": {
            "startup": false,
            "wait_interval": 0
          }
        }
      },
      "cell_type": "code",
      "source": [
        "bkpf = bkpf.loc[:, ['BELNR', 'BLART','USNAM']]"
      ],
      "execution_count": 0,
      "outputs": []
    },
    {
      "metadata": {
        "id": "sHpoluZAUccP",
        "colab_type": "code",
        "colab": {
          "autoexec": {
            "startup": false,
            "wait_interval": 0
          },
          "base_uri": "https://localhost:8080/",
          "height": 359
        },
        "outputId": "1c82125f-f431-471e-b908-7f477e1d80d7",
        "executionInfo": {
          "status": "ok",
          "timestamp": 1524249594124,
          "user_tz": 420,
          "elapsed": 351,
          "user": {
            "displayName": "Michael Schermann",
            "photoUrl": "//lh3.googleusercontent.com/-sXyTj9V4mk8/AAAAAAAAAAI/AAAAAAAAAD4/JcGCCFE3xt8/s50-c-k-no/photo.jpg",
            "userId": "115913240975069260630"
          }
        }
      },
      "cell_type": "code",
      "source": [
        "bkpf.sample(10, random_state=456)"
      ],
      "execution_count": 59,
      "outputs": [
        {
          "output_type": "execute_result",
          "data": {
            "text/html": [
              "<div>\n",
              "<style scoped>\n",
              "    .dataframe tbody tr th:only-of-type {\n",
              "        vertical-align: middle;\n",
              "    }\n",
              "\n",
              "    .dataframe tbody tr th {\n",
              "        vertical-align: top;\n",
              "    }\n",
              "\n",
              "    .dataframe thead th {\n",
              "        text-align: right;\n",
              "    }\n",
              "</style>\n",
              "<table border=\"1\" class=\"dataframe\">\n",
              "  <thead>\n",
              "    <tr style=\"text-align: right;\">\n",
              "      <th></th>\n",
              "      <th>BELNR</th>\n",
              "      <th>BLART</th>\n",
              "      <th>USNAM</th>\n",
              "    </tr>\n",
              "  </thead>\n",
              "  <tbody>\n",
              "    <tr>\n",
              "      <th>887</th>\n",
              "      <td>4900000573</td>\n",
              "      <td>WA</td>\n",
              "      <td>BOETTCHER</td>\n",
              "    </tr>\n",
              "    <tr>\n",
              "      <th>1183</th>\n",
              "      <td>4900000869</td>\n",
              "      <td>WA</td>\n",
              "      <td>BOETTCHER</td>\n",
              "    </tr>\n",
              "    <tr>\n",
              "      <th>2547</th>\n",
              "      <td>5000000184</td>\n",
              "      <td>WE</td>\n",
              "      <td>GBIFAC-01</td>\n",
              "    </tr>\n",
              "    <tr>\n",
              "      <th>690</th>\n",
              "      <td>4900000376</td>\n",
              "      <td>WA</td>\n",
              "      <td>BOETTCHER</td>\n",
              "    </tr>\n",
              "    <tr>\n",
              "      <th>1280</th>\n",
              "      <td>4900000966</td>\n",
              "      <td>WA</td>\n",
              "      <td>BOETTCHER</td>\n",
              "    </tr>\n",
              "    <tr>\n",
              "      <th>19</th>\n",
              "      <td>1500000013</td>\n",
              "      <td>KZ</td>\n",
              "      <td>GBI-005</td>\n",
              "    </tr>\n",
              "    <tr>\n",
              "      <th>2778</th>\n",
              "      <td>5000000415</td>\n",
              "      <td>WE</td>\n",
              "      <td>GBI-005</td>\n",
              "    </tr>\n",
              "    <tr>\n",
              "      <th>2266</th>\n",
              "      <td>4900001952</td>\n",
              "      <td>WA</td>\n",
              "      <td>BOETTCHER</td>\n",
              "    </tr>\n",
              "    <tr>\n",
              "      <th>1013</th>\n",
              "      <td>4900000699</td>\n",
              "      <td>WA</td>\n",
              "      <td>BOETTCHER</td>\n",
              "    </tr>\n",
              "    <tr>\n",
              "      <th>3262</th>\n",
              "      <td>1500000304</td>\n",
              "      <td>KZ</td>\n",
              "      <td>GBIFAC-01</td>\n",
              "    </tr>\n",
              "  </tbody>\n",
              "</table>\n",
              "</div>"
            ],
            "text/plain": [
              "           BELNR BLART      USNAM\n",
              "887   4900000573    WA  BOETTCHER\n",
              "1183  4900000869    WA  BOETTCHER\n",
              "2547  5000000184    WE  GBIFAC-01\n",
              "690   4900000376    WA  BOETTCHER\n",
              "1280  4900000966    WA  BOETTCHER\n",
              "19    1500000013    KZ    GBI-005\n",
              "2778  5000000415    WE    GBI-005\n",
              "2266  4900001952    WA  BOETTCHER\n",
              "1013  4900000699    WA  BOETTCHER\n",
              "3262  1500000304    KZ  GBIFAC-01"
            ]
          },
          "metadata": {
            "tags": []
          },
          "execution_count": 59
        }
      ]
    },
    {
      "metadata": {
        "id": "Zz4ivFsRUccT",
        "colab_type": "code",
        "colab": {
          "autoexec": {
            "startup": false,
            "wait_interval": 0
          },
          "base_uri": "https://localhost:8080/",
          "height": 34
        },
        "outputId": "2cf89c01-86f8-423d-d32b-a50b85a82d73",
        "executionInfo": {
          "status": "ok",
          "timestamp": 1524249596870,
          "user_tz": 420,
          "elapsed": 444,
          "user": {
            "displayName": "Michael Schermann",
            "photoUrl": "//lh3.googleusercontent.com/-sXyTj9V4mk8/AAAAAAAAAAI/AAAAAAAAAD4/JcGCCFE3xt8/s50-c-k-no/photo.jpg",
            "userId": "115913240975069260630"
          }
        }
      },
      "cell_type": "code",
      "source": [
        "bkpf['BLART'].unique()"
      ],
      "execution_count": 60,
      "outputs": [
        {
          "output_type": "execute_result",
          "data": {
            "text/plain": [
              "array(['RV', 'DZ', 'KZ', 'KG', 'WA', 'WL', 'WE', 'RE'], dtype=object)"
            ]
          },
          "metadata": {
            "tags": []
          },
          "execution_count": 60
        }
      ]
    },
    {
      "metadata": {
        "id": "SpEOhp6QUccX",
        "colab_type": "text"
      },
      "cell_type": "markdown",
      "source": [
        "Interesting for us is the document type `KZ`, which represents vendor payments."
      ]
    },
    {
      "metadata": {
        "id": "oD6pg6DIUccY",
        "colab_type": "code",
        "colab": {
          "autoexec": {
            "startup": false,
            "wait_interval": 0
          }
        }
      },
      "cell_type": "code",
      "source": [
        "bkpf = bkpf[bkpf['BLART']=='KZ']"
      ],
      "execution_count": 0,
      "outputs": []
    },
    {
      "metadata": {
        "id": "bXMu-LGAXwZ7",
        "colab_type": "text"
      },
      "cell_type": "markdown",
      "source": [
        "## BSEG"
      ]
    },
    {
      "metadata": {
        "id": "HFDyVAiqUcca",
        "colab_type": "text"
      },
      "cell_type": "markdown",
      "source": [
        "We use the following columns from `BSEG`:\n",
        "* `BELNR` - That is the financial document number\n",
        "* `BSCHL` - That is the posting key\n",
        "* `WRBTR` - That is the amount posted\n",
        "* `LIFNR` - That is vendor account"
      ]
    },
    {
      "metadata": {
        "id": "1QpOiPJ-Uccb",
        "colab_type": "code",
        "colab": {
          "autoexec": {
            "startup": false,
            "wait_interval": 0
          }
        }
      },
      "cell_type": "code",
      "source": [
        "bseg = bseg.loc[:, ['BELNR', 'BSCHL', 'WRBTR', 'LIFNR']]"
      ],
      "execution_count": 0,
      "outputs": []
    },
    {
      "metadata": {
        "id": "9TueXjnTUcce",
        "colab_type": "code",
        "colab": {
          "autoexec": {
            "startup": false,
            "wait_interval": 0
          },
          "base_uri": "https://localhost:8080/",
          "height": 359
        },
        "outputId": "de3d413b-37bc-408c-b741-567c9153f9a4",
        "executionInfo": {
          "status": "ok",
          "timestamp": 1524249600014,
          "user_tz": 420,
          "elapsed": 358,
          "user": {
            "displayName": "Michael Schermann",
            "photoUrl": "//lh3.googleusercontent.com/-sXyTj9V4mk8/AAAAAAAAAAI/AAAAAAAAAD4/JcGCCFE3xt8/s50-c-k-no/photo.jpg",
            "userId": "115913240975069260630"
          }
        }
      },
      "cell_type": "code",
      "source": [
        "bseg.sample(10, random_state=456)"
      ],
      "execution_count": 63,
      "outputs": [
        {
          "output_type": "execute_result",
          "data": {
            "text/html": [
              "<div>\n",
              "<style scoped>\n",
              "    .dataframe tbody tr th:only-of-type {\n",
              "        vertical-align: middle;\n",
              "    }\n",
              "\n",
              "    .dataframe tbody tr th {\n",
              "        vertical-align: top;\n",
              "    }\n",
              "\n",
              "    .dataframe thead th {\n",
              "        text-align: right;\n",
              "    }\n",
              "</style>\n",
              "<table border=\"1\" class=\"dataframe\">\n",
              "  <thead>\n",
              "    <tr style=\"text-align: right;\">\n",
              "      <th></th>\n",
              "      <th>BELNR</th>\n",
              "      <th>BSCHL</th>\n",
              "      <th>WRBTR</th>\n",
              "      <th>LIFNR</th>\n",
              "    </tr>\n",
              "  </thead>\n",
              "  <tbody>\n",
              "    <tr>\n",
              "      <th>559</th>\n",
              "      <td>1.500000e+09</td>\n",
              "      <td>25</td>\n",
              "      <td>1,000.00</td>\n",
              "      <td>125131.0</td>\n",
              "    </tr>\n",
              "    <tr>\n",
              "      <th>235</th>\n",
              "      <td>1.500000e+09</td>\n",
              "      <td>50</td>\n",
              "      <td>5</td>\n",
              "      <td>NaN</td>\n",
              "    </tr>\n",
              "    <tr>\n",
              "      <th>619</th>\n",
              "      <td>1.700000e+09</td>\n",
              "      <td>35</td>\n",
              "      <td>1,960,000.00</td>\n",
              "      <td>125088.0</td>\n",
              "    </tr>\n",
              "    <tr>\n",
              "      <th>32</th>\n",
              "      <td>1.500000e+09</td>\n",
              "      <td>50</td>\n",
              "      <td>1,010,000.00</td>\n",
              "      <td>NaN</td>\n",
              "    </tr>\n",
              "    <tr>\n",
              "      <th>2737</th>\n",
              "      <td>1.500000e+09</td>\n",
              "      <td>50</td>\n",
              "      <td>1927.48</td>\n",
              "      <td>NaN</td>\n",
              "    </tr>\n",
              "    <tr>\n",
              "      <th>425</th>\n",
              "      <td>1.500000e+09</td>\n",
              "      <td>50</td>\n",
              "      <td>1,000,000.00</td>\n",
              "      <td>NaN</td>\n",
              "    </tr>\n",
              "    <tr>\n",
              "      <th>2527</th>\n",
              "      <td>5.105600e+09</td>\n",
              "      <td>31</td>\n",
              "      <td>96,000.00</td>\n",
              "      <td>125108.0</td>\n",
              "    </tr>\n",
              "    <tr>\n",
              "      <th>2808</th>\n",
              "      <td>1.500000e+09</td>\n",
              "      <td>25</td>\n",
              "      <td>1,000.00</td>\n",
              "      <td>125107.0</td>\n",
              "    </tr>\n",
              "    <tr>\n",
              "      <th>943</th>\n",
              "      <td>5.000000e+09</td>\n",
              "      <td>96</td>\n",
              "      <td>63,830.00</td>\n",
              "      <td>125018.0</td>\n",
              "    </tr>\n",
              "    <tr>\n",
              "      <th>557</th>\n",
              "      <td>1.500000e+09</td>\n",
              "      <td>25</td>\n",
              "      <td>1,000.00</td>\n",
              "      <td>125131.0</td>\n",
              "    </tr>\n",
              "  </tbody>\n",
              "</table>\n",
              "</div>"
            ],
            "text/plain": [
              "             BELNR  BSCHL         WRBTR     LIFNR\n",
              "559   1.500000e+09     25      1,000.00  125131.0\n",
              "235   1.500000e+09     50             5       NaN\n",
              "619   1.700000e+09     35  1,960,000.00  125088.0\n",
              "32    1.500000e+09     50  1,010,000.00       NaN\n",
              "2737  1.500000e+09     50       1927.48       NaN\n",
              "425   1.500000e+09     50  1,000,000.00       NaN\n",
              "2527  5.105600e+09     31     96,000.00  125108.0\n",
              "2808  1.500000e+09     25      1,000.00  125107.0\n",
              "943   5.000000e+09     96     63,830.00  125018.0\n",
              "557   1.500000e+09     25      1,000.00  125131.0"
            ]
          },
          "metadata": {
            "tags": []
          },
          "execution_count": 63
        }
      ]
    },
    {
      "metadata": {
        "id": "i7DZj7JNUcco",
        "colab_type": "code",
        "colab": {
          "autoexec": {
            "startup": false,
            "wait_interval": 0
          },
          "base_uri": "https://localhost:8080/",
          "height": 34
        },
        "outputId": "0d8f8c76-75c0-4c80-9718-422c81b2fee0",
        "executionInfo": {
          "status": "ok",
          "timestamp": 1524249602410,
          "user_tz": 420,
          "elapsed": 570,
          "user": {
            "displayName": "Michael Schermann",
            "photoUrl": "//lh3.googleusercontent.com/-sXyTj9V4mk8/AAAAAAAAAAI/AAAAAAAAAD4/JcGCCFE3xt8/s50-c-k-no/photo.jpg",
            "userId": "115913240975069260630"
          }
        }
      },
      "cell_type": "code",
      "source": [
        "bseg['BSCHL'].unique()"
      ],
      "execution_count": 64,
      "outputs": [
        {
          "output_type": "execute_result",
          "data": {
            "text/plain": [
              "array([50, 25, 40, 35, 89, 96, 86, 99, 81, 91, 31, 83, 93, 21])"
            ]
          },
          "metadata": {
            "tags": []
          },
          "execution_count": 64
        }
      ]
    },
    {
      "metadata": {
        "id": "qN8p8LhlUccs",
        "colab_type": "text"
      },
      "cell_type": "markdown",
      "source": [
        "Interesting for us is the posting key `25`, which represents the debit posting on the vendor account."
      ]
    },
    {
      "metadata": {
        "id": "krdWy19BUccu",
        "colab_type": "code",
        "colab": {
          "autoexec": {
            "startup": false,
            "wait_interval": 0
          }
        }
      },
      "cell_type": "code",
      "source": [
        "bseg = bseg[bseg['BSCHL']==25]"
      ],
      "execution_count": 0,
      "outputs": []
    },
    {
      "metadata": {
        "id": "M4H1oJJLUccy",
        "colab_type": "code",
        "colab": {
          "autoexec": {
            "startup": false,
            "wait_interval": 0
          },
          "base_uri": "https://localhost:8080/",
          "height": 102
        },
        "outputId": "87f5a3fa-3c5e-454d-ab98-f2e4304527f6",
        "executionInfo": {
          "status": "ok",
          "timestamp": 1524249605604,
          "user_tz": 420,
          "elapsed": 592,
          "user": {
            "displayName": "Michael Schermann",
            "photoUrl": "//lh3.googleusercontent.com/-sXyTj9V4mk8/AAAAAAAAAAI/AAAAAAAAAD4/JcGCCFE3xt8/s50-c-k-no/photo.jpg",
            "userId": "115913240975069260630"
          }
        }
      },
      "cell_type": "code",
      "source": [
        "bseg.dtypes"
      ],
      "execution_count": 66,
      "outputs": [
        {
          "output_type": "execute_result",
          "data": {
            "text/plain": [
              "BELNR    float64\n",
              "BSCHL      int64\n",
              "WRBTR     object\n",
              "LIFNR    float64\n",
              "dtype: object"
            ]
          },
          "metadata": {
            "tags": []
          },
          "execution_count": 66
        }
      ]
    },
    {
      "metadata": {
        "id": "sfslWgKpYAxL",
        "colab_type": "text"
      },
      "cell_type": "markdown",
      "source": [
        "We need to fix the posting value."
      ]
    },
    {
      "metadata": {
        "id": "a3jVSvr7Ucc1",
        "colab_type": "code",
        "colab": {
          "autoexec": {
            "startup": false,
            "wait_interval": 0
          }
        }
      },
      "cell_type": "code",
      "source": [
        "bseg['WRBTR'] = bseg['WRBTR'].str.replace(',','')"
      ],
      "execution_count": 0,
      "outputs": []
    },
    {
      "metadata": {
        "id": "tucKeOO1Ucc4",
        "colab_type": "code",
        "colab": {
          "autoexec": {
            "startup": false,
            "wait_interval": 0
          },
          "base_uri": "https://localhost:8080/",
          "height": 204
        },
        "outputId": "cd6ed536-7b49-4c76-ceaa-56ed22650b97",
        "executionInfo": {
          "status": "ok",
          "timestamp": 1524249607614,
          "user_tz": 420,
          "elapsed": 550,
          "user": {
            "displayName": "Michael Schermann",
            "photoUrl": "//lh3.googleusercontent.com/-sXyTj9V4mk8/AAAAAAAAAAI/AAAAAAAAAD4/JcGCCFE3xt8/s50-c-k-no/photo.jpg",
            "userId": "115913240975069260630"
          }
        }
      },
      "cell_type": "code",
      "source": [
        "bseg.head()"
      ],
      "execution_count": 68,
      "outputs": [
        {
          "output_type": "execute_result",
          "data": {
            "text/html": [
              "<div>\n",
              "<style scoped>\n",
              "    .dataframe tbody tr th:only-of-type {\n",
              "        vertical-align: middle;\n",
              "    }\n",
              "\n",
              "    .dataframe tbody tr th {\n",
              "        vertical-align: top;\n",
              "    }\n",
              "\n",
              "    .dataframe thead th {\n",
              "        text-align: right;\n",
              "    }\n",
              "</style>\n",
              "<table border=\"1\" class=\"dataframe\">\n",
              "  <thead>\n",
              "    <tr style=\"text-align: right;\">\n",
              "      <th></th>\n",
              "      <th>BELNR</th>\n",
              "      <th>BSCHL</th>\n",
              "      <th>WRBTR</th>\n",
              "      <th>LIFNR</th>\n",
              "    </tr>\n",
              "  </thead>\n",
              "  <tbody>\n",
              "    <tr>\n",
              "      <th>1</th>\n",
              "      <td>1.500000e+09</td>\n",
              "      <td>25</td>\n",
              "      <td>213710.00</td>\n",
              "      <td>125131.0</td>\n",
              "    </tr>\n",
              "    <tr>\n",
              "      <th>3</th>\n",
              "      <td>1.500000e+09</td>\n",
              "      <td>25</td>\n",
              "      <td>1068550.00</td>\n",
              "      <td>125131.0</td>\n",
              "    </tr>\n",
              "    <tr>\n",
              "      <th>5</th>\n",
              "      <td>1.500000e+09</td>\n",
              "      <td>25</td>\n",
              "      <td>933153.41</td>\n",
              "      <td>125135.0</td>\n",
              "    </tr>\n",
              "    <tr>\n",
              "      <th>7</th>\n",
              "      <td>1.500000e+09</td>\n",
              "      <td>25</td>\n",
              "      <td>1050.00</td>\n",
              "      <td>125135.0</td>\n",
              "    </tr>\n",
              "    <tr>\n",
              "      <th>9</th>\n",
              "      <td>1.500000e+09</td>\n",
              "      <td>25</td>\n",
              "      <td>30300.00</td>\n",
              "      <td>125131.0</td>\n",
              "    </tr>\n",
              "  </tbody>\n",
              "</table>\n",
              "</div>"
            ],
            "text/plain": [
              "          BELNR  BSCHL       WRBTR     LIFNR\n",
              "1  1.500000e+09     25   213710.00  125131.0\n",
              "3  1.500000e+09     25  1068550.00  125131.0\n",
              "5  1.500000e+09     25   933153.41  125135.0\n",
              "7  1.500000e+09     25     1050.00  125135.0\n",
              "9  1.500000e+09     25    30300.00  125131.0"
            ]
          },
          "metadata": {
            "tags": []
          },
          "execution_count": 68
        }
      ]
    },
    {
      "metadata": {
        "id": "U2DcMmpQX1O4",
        "colab_type": "text"
      },
      "cell_type": "markdown",
      "source": [
        "## First digit of the posting value"
      ]
    },
    {
      "metadata": {
        "id": "fg3UyGDYUcc8",
        "colab_type": "code",
        "colab": {
          "autoexec": {
            "startup": false,
            "wait_interval": 0
          }
        }
      },
      "cell_type": "code",
      "source": [
        "bseg['first'] = bseg['WRBTR'].str[0:1].astype(int)"
      ],
      "execution_count": 0,
      "outputs": []
    },
    {
      "metadata": {
        "id": "YYBO3yzGYGvC",
        "colab_type": "text"
      },
      "cell_type": "markdown",
      "source": [
        "## How many documents do we have per vendor?"
      ]
    },
    {
      "metadata": {
        "id": "yWn1AE7uUcc-",
        "colab_type": "code",
        "colab": {
          "autoexec": {
            "startup": false,
            "wait_interval": 0
          },
          "base_uri": "https://localhost:8080/",
          "height": 272
        },
        "outputId": "0c7b2386-82e0-40a4-fd07-218dd3fbf912",
        "executionInfo": {
          "status": "ok",
          "timestamp": 1524249609741,
          "user_tz": 420,
          "elapsed": 272,
          "user": {
            "displayName": "Michael Schermann",
            "photoUrl": "//lh3.googleusercontent.com/-sXyTj9V4mk8/AAAAAAAAAAI/AAAAAAAAAD4/JcGCCFE3xt8/s50-c-k-no/photo.jpg",
            "userId": "115913240975069260630"
          }
        }
      },
      "cell_type": "code",
      "source": [
        "vendors = bseg.groupby('LIFNR').size().sort_values(ascending=False)\n",
        "vendors"
      ],
      "execution_count": 70,
      "outputs": [
        {
          "output_type": "execute_result",
          "data": {
            "text/plain": [
              "LIFNR\n",
              "125131.0    122\n",
              "125135.0    118\n",
              "125134.0     47\n",
              "125104.0     31\n",
              "125107.0     22\n",
              "125105.0      4\n",
              "125121.0      3\n",
              "125127.0      1\n",
              "125101.0      1\n",
              "125098.0      1\n",
              "125070.0      1\n",
              "125014.0      1\n",
              "125000.0      1\n",
              "dtype: int64"
            ]
          },
          "metadata": {
            "tags": []
          },
          "execution_count": 70
        }
      ]
    },
    {
      "metadata": {
        "id": "9KuWsOHXUcdE",
        "colab_type": "code",
        "colab": {
          "autoexec": {
            "startup": false,
            "wait_interval": 0
          },
          "base_uri": "https://localhost:8080/",
          "height": 136
        },
        "outputId": "4e84c517-e461-4f27-c5e1-e7f4f6e8379d",
        "executionInfo": {
          "status": "ok",
          "timestamp": 1524249611335,
          "user_tz": 420,
          "elapsed": 309,
          "user": {
            "displayName": "Michael Schermann",
            "photoUrl": "//lh3.googleusercontent.com/-sXyTj9V4mk8/AAAAAAAAAAI/AAAAAAAAAD4/JcGCCFE3xt8/s50-c-k-no/photo.jpg",
            "userId": "115913240975069260630"
          }
        }
      },
      "cell_type": "code",
      "source": [
        "vendors = vendors[vendors > 20]\n",
        "vendors"
      ],
      "execution_count": 71,
      "outputs": [
        {
          "output_type": "execute_result",
          "data": {
            "text/plain": [
              "LIFNR\n",
              "125131.0    122\n",
              "125135.0    118\n",
              "125134.0     47\n",
              "125104.0     31\n",
              "125107.0     22\n",
              "dtype: int64"
            ]
          },
          "metadata": {
            "tags": []
          },
          "execution_count": 71
        }
      ]
    },
    {
      "metadata": {
        "id": "XvIEnA-RUcdI",
        "colab_type": "code",
        "colab": {
          "autoexec": {
            "startup": false,
            "wait_interval": 0
          },
          "base_uri": "https://localhost:8080/",
          "height": 34
        },
        "outputId": "2c7597ba-7221-4cec-eb49-653c445fb98e",
        "executionInfo": {
          "status": "ok",
          "timestamp": 1524249612308,
          "user_tz": 420,
          "elapsed": 487,
          "user": {
            "displayName": "Michael Schermann",
            "photoUrl": "//lh3.googleusercontent.com/-sXyTj9V4mk8/AAAAAAAAAAI/AAAAAAAAAD4/JcGCCFE3xt8/s50-c-k-no/photo.jpg",
            "userId": "115913240975069260630"
          }
        }
      },
      "cell_type": "code",
      "source": [
        "vendors.index"
      ],
      "execution_count": 72,
      "outputs": [
        {
          "output_type": "execute_result",
          "data": {
            "text/plain": [
              "Float64Index([125131.0, 125135.0, 125134.0, 125104.0, 125107.0], dtype='float64', name='LIFNR')"
            ]
          },
          "metadata": {
            "tags": []
          },
          "execution_count": 72
        }
      ]
    },
    {
      "metadata": {
        "id": "JOo-OdG9UcdO",
        "colab_type": "code",
        "colab": {
          "autoexec": {
            "startup": false,
            "wait_interval": 0
          }
        }
      },
      "cell_type": "code",
      "source": [
        "bseg = bseg[bseg['LIFNR'].isin(vendors.index)]"
      ],
      "execution_count": 0,
      "outputs": []
    },
    {
      "metadata": {
        "id": "3VNxNDQtUcdP",
        "colab_type": "code",
        "colab": {
          "autoexec": {
            "startup": false,
            "wait_interval": 0
          },
          "base_uri": "https://localhost:8080/",
          "height": 391
        },
        "outputId": "80583663-3386-46ec-896d-6c8b48bdc078",
        "executionInfo": {
          "status": "ok",
          "timestamp": 1524249977509,
          "user_tz": 420,
          "elapsed": 489,
          "user": {
            "displayName": "Michael Schermann",
            "photoUrl": "//lh3.googleusercontent.com/-sXyTj9V4mk8/AAAAAAAAAAI/AAAAAAAAAD4/JcGCCFE3xt8/s50-c-k-no/photo.jpg",
            "userId": "115913240975069260630"
          }
        }
      },
      "cell_type": "code",
      "source": [
        "bseg.head()\n",
        "bkpf.head()"
      ],
      "execution_count": 95,
      "outputs": [
        {
          "output_type": "execute_result",
          "data": {
            "text/html": [
              "<div>\n",
              "<style scoped>\n",
              "    .dataframe tbody tr th:only-of-type {\n",
              "        vertical-align: middle;\n",
              "    }\n",
              "\n",
              "    .dataframe tbody tr th {\n",
              "        vertical-align: top;\n",
              "    }\n",
              "\n",
              "    .dataframe thead th {\n",
              "        text-align: right;\n",
              "    }\n",
              "</style>\n",
              "<table border=\"1\" class=\"dataframe\">\n",
              "  <thead>\n",
              "    <tr style=\"text-align: right;\">\n",
              "      <th></th>\n",
              "      <th>BELNR</th>\n",
              "      <th>BSCHL</th>\n",
              "      <th>WRBTR</th>\n",
              "      <th>LIFNR</th>\n",
              "      <th>first</th>\n",
              "    </tr>\n",
              "  </thead>\n",
              "  <tbody>\n",
              "    <tr>\n",
              "      <th>1</th>\n",
              "      <td>1.500000e+09</td>\n",
              "      <td>25</td>\n",
              "      <td>213710.00</td>\n",
              "      <td>125131.0</td>\n",
              "      <td>2</td>\n",
              "    </tr>\n",
              "    <tr>\n",
              "      <th>3</th>\n",
              "      <td>1.500000e+09</td>\n",
              "      <td>25</td>\n",
              "      <td>1068550.00</td>\n",
              "      <td>125131.0</td>\n",
              "      <td>1</td>\n",
              "    </tr>\n",
              "    <tr>\n",
              "      <th>5</th>\n",
              "      <td>1.500000e+09</td>\n",
              "      <td>25</td>\n",
              "      <td>933153.41</td>\n",
              "      <td>125135.0</td>\n",
              "      <td>9</td>\n",
              "    </tr>\n",
              "    <tr>\n",
              "      <th>7</th>\n",
              "      <td>1.500000e+09</td>\n",
              "      <td>25</td>\n",
              "      <td>1050.00</td>\n",
              "      <td>125135.0</td>\n",
              "      <td>1</td>\n",
              "    </tr>\n",
              "    <tr>\n",
              "      <th>9</th>\n",
              "      <td>1.500000e+09</td>\n",
              "      <td>25</td>\n",
              "      <td>30300.00</td>\n",
              "      <td>125131.0</td>\n",
              "      <td>3</td>\n",
              "    </tr>\n",
              "  </tbody>\n",
              "</table>\n",
              "</div>"
            ],
            "text/plain": [
              "          BELNR  BSCHL       WRBTR     LIFNR  first\n",
              "1  1.500000e+09     25   213710.00  125131.0      2\n",
              "3  1.500000e+09     25  1068550.00  125131.0      1\n",
              "5  1.500000e+09     25   933153.41  125135.0      9\n",
              "7  1.500000e+09     25     1050.00  125135.0      1\n",
              "9  1.500000e+09     25    30300.00  125131.0      3"
            ]
          },
          "metadata": {
            "tags": []
          },
          "execution_count": 95
        },
        {
          "output_type": "execute_result",
          "data": {
            "text/html": [
              "<div>\n",
              "<style scoped>\n",
              "    .dataframe tbody tr th:only-of-type {\n",
              "        vertical-align: middle;\n",
              "    }\n",
              "\n",
              "    .dataframe tbody tr th {\n",
              "        vertical-align: top;\n",
              "    }\n",
              "\n",
              "    .dataframe thead th {\n",
              "        text-align: right;\n",
              "    }\n",
              "</style>\n",
              "<table border=\"1\" class=\"dataframe\">\n",
              "  <thead>\n",
              "    <tr style=\"text-align: right;\">\n",
              "      <th></th>\n",
              "      <th>BELNR</th>\n",
              "      <th>BLART</th>\n",
              "      <th>USNAM</th>\n",
              "    </tr>\n",
              "  </thead>\n",
              "  <tbody>\n",
              "    <tr>\n",
              "      <th>6</th>\n",
              "      <td>1500000000</td>\n",
              "      <td>KZ</td>\n",
              "      <td>GBI-005</td>\n",
              "    </tr>\n",
              "    <tr>\n",
              "      <th>7</th>\n",
              "      <td>1500000001</td>\n",
              "      <td>KZ</td>\n",
              "      <td>GBI-005</td>\n",
              "    </tr>\n",
              "    <tr>\n",
              "      <th>8</th>\n",
              "      <td>1500000002</td>\n",
              "      <td>KZ</td>\n",
              "      <td>GBI-005</td>\n",
              "    </tr>\n",
              "    <tr>\n",
              "      <th>9</th>\n",
              "      <td>1500000003</td>\n",
              "      <td>KZ</td>\n",
              "      <td>GBI-005</td>\n",
              "    </tr>\n",
              "    <tr>\n",
              "      <th>10</th>\n",
              "      <td>1500000004</td>\n",
              "      <td>KZ</td>\n",
              "      <td>GBI-005</td>\n",
              "    </tr>\n",
              "  </tbody>\n",
              "</table>\n",
              "</div>"
            ],
            "text/plain": [
              "         BELNR BLART    USNAM\n",
              "6   1500000000    KZ  GBI-005\n",
              "7   1500000001    KZ  GBI-005\n",
              "8   1500000002    KZ  GBI-005\n",
              "9   1500000003    KZ  GBI-005\n",
              "10  1500000004    KZ  GBI-005"
            ]
          },
          "metadata": {
            "tags": []
          },
          "execution_count": 95
        }
      ]
    },
    {
      "metadata": {
        "id": "66jWcphRYRnT",
        "colab_type": "text"
      },
      "cell_type": "markdown",
      "source": [
        "## Integrated dataset"
      ]
    },
    {
      "metadata": {
        "id": "-PEP2gFEUcdS",
        "colab_type": "code",
        "colab": {
          "autoexec": {
            "startup": false,
            "wait_interval": 0
          }
        }
      },
      "cell_type": "code",
      "source": [
        "vp = pd.merge(bseg, bkpf, how='left', on='BELNR')"
      ],
      "execution_count": 0,
      "outputs": []
    },
    {
      "metadata": {
        "id": "2E6nhLcfUcdU",
        "colab_type": "code",
        "colab": {
          "autoexec": {
            "startup": false,
            "wait_interval": 0
          },
          "base_uri": "https://localhost:8080/",
          "height": 204
        },
        "outputId": "6e45afac-686b-4aa6-afb8-c589866a6108",
        "executionInfo": {
          "status": "ok",
          "timestamp": 1524249617326,
          "user_tz": 420,
          "elapsed": 432,
          "user": {
            "displayName": "Michael Schermann",
            "photoUrl": "//lh3.googleusercontent.com/-sXyTj9V4mk8/AAAAAAAAAAI/AAAAAAAAAD4/JcGCCFE3xt8/s50-c-k-no/photo.jpg",
            "userId": "115913240975069260630"
          }
        }
      },
      "cell_type": "code",
      "source": [
        "ben_vp_vendor = vp.groupby(['first', 'LIFNR'])['first'].count().reset_index(name='count')\n",
        "ben_vp_vendor.head()"
      ],
      "execution_count": 76,
      "outputs": [
        {
          "output_type": "execute_result",
          "data": {
            "text/html": [
              "<div>\n",
              "<style scoped>\n",
              "    .dataframe tbody tr th:only-of-type {\n",
              "        vertical-align: middle;\n",
              "    }\n",
              "\n",
              "    .dataframe tbody tr th {\n",
              "        vertical-align: top;\n",
              "    }\n",
              "\n",
              "    .dataframe thead th {\n",
              "        text-align: right;\n",
              "    }\n",
              "</style>\n",
              "<table border=\"1\" class=\"dataframe\">\n",
              "  <thead>\n",
              "    <tr style=\"text-align: right;\">\n",
              "      <th></th>\n",
              "      <th>first</th>\n",
              "      <th>LIFNR</th>\n",
              "      <th>count</th>\n",
              "    </tr>\n",
              "  </thead>\n",
              "  <tbody>\n",
              "    <tr>\n",
              "      <th>0</th>\n",
              "      <td>1</td>\n",
              "      <td>125104.0</td>\n",
              "      <td>2</td>\n",
              "    </tr>\n",
              "    <tr>\n",
              "      <th>1</th>\n",
              "      <td>1</td>\n",
              "      <td>125107.0</td>\n",
              "      <td>20</td>\n",
              "    </tr>\n",
              "    <tr>\n",
              "      <th>2</th>\n",
              "      <td>1</td>\n",
              "      <td>125131.0</td>\n",
              "      <td>72</td>\n",
              "    </tr>\n",
              "    <tr>\n",
              "      <th>3</th>\n",
              "      <td>1</td>\n",
              "      <td>125134.0</td>\n",
              "      <td>3</td>\n",
              "    </tr>\n",
              "    <tr>\n",
              "      <th>4</th>\n",
              "      <td>1</td>\n",
              "      <td>125135.0</td>\n",
              "      <td>74</td>\n",
              "    </tr>\n",
              "  </tbody>\n",
              "</table>\n",
              "</div>"
            ],
            "text/plain": [
              "   first     LIFNR  count\n",
              "0      1  125104.0      2\n",
              "1      1  125107.0     20\n",
              "2      1  125131.0     72\n",
              "3      1  125134.0      3\n",
              "4      1  125135.0     74"
            ]
          },
          "metadata": {
            "tags": []
          },
          "execution_count": 76
        }
      ]
    },
    {
      "metadata": {
        "id": "_hNnjA1PUcdX",
        "colab_type": "code",
        "colab": {
          "autoexec": {
            "startup": false,
            "wait_interval": 0
          },
          "base_uri": "https://localhost:8080/",
          "height": 204
        },
        "outputId": "50c903d6-507a-4d68-e79b-0a0b822a84bd",
        "executionInfo": {
          "status": "ok",
          "timestamp": 1524249618383,
          "user_tz": 420,
          "elapsed": 293,
          "user": {
            "displayName": "Michael Schermann",
            "photoUrl": "//lh3.googleusercontent.com/-sXyTj9V4mk8/AAAAAAAAAAI/AAAAAAAAAD4/JcGCCFE3xt8/s50-c-k-no/photo.jpg",
            "userId": "115913240975069260630"
          }
        }
      },
      "cell_type": "code",
      "source": [
        "ben_vp_accountant = vp.groupby(['first', 'USNAM'])['first'].count().reset_index(name='count')\n",
        "ben_vp_accountant.head()"
      ],
      "execution_count": 77,
      "outputs": [
        {
          "output_type": "execute_result",
          "data": {
            "text/html": [
              "<div>\n",
              "<style scoped>\n",
              "    .dataframe tbody tr th:only-of-type {\n",
              "        vertical-align: middle;\n",
              "    }\n",
              "\n",
              "    .dataframe tbody tr th {\n",
              "        vertical-align: top;\n",
              "    }\n",
              "\n",
              "    .dataframe thead th {\n",
              "        text-align: right;\n",
              "    }\n",
              "</style>\n",
              "<table border=\"1\" class=\"dataframe\">\n",
              "  <thead>\n",
              "    <tr style=\"text-align: right;\">\n",
              "      <th></th>\n",
              "      <th>first</th>\n",
              "      <th>USNAM</th>\n",
              "      <th>count</th>\n",
              "    </tr>\n",
              "  </thead>\n",
              "  <tbody>\n",
              "    <tr>\n",
              "      <th>0</th>\n",
              "      <td>1</td>\n",
              "      <td>GBI-005</td>\n",
              "      <td>28</td>\n",
              "    </tr>\n",
              "    <tr>\n",
              "      <th>1</th>\n",
              "      <td>1</td>\n",
              "      <td>GBI-026</td>\n",
              "      <td>83</td>\n",
              "    </tr>\n",
              "    <tr>\n",
              "      <th>2</th>\n",
              "      <td>1</td>\n",
              "      <td>GBIFAC-01</td>\n",
              "      <td>59</td>\n",
              "    </tr>\n",
              "    <tr>\n",
              "      <th>3</th>\n",
              "      <td>2</td>\n",
              "      <td>GBI-005</td>\n",
              "      <td>17</td>\n",
              "    </tr>\n",
              "    <tr>\n",
              "      <th>4</th>\n",
              "      <td>2</td>\n",
              "      <td>GBI-026</td>\n",
              "      <td>7</td>\n",
              "    </tr>\n",
              "  </tbody>\n",
              "</table>\n",
              "</div>"
            ],
            "text/plain": [
              "   first      USNAM  count\n",
              "0      1    GBI-005     28\n",
              "1      1    GBI-026     83\n",
              "2      1  GBIFAC-01     59\n",
              "3      2    GBI-005     17\n",
              "4      2    GBI-026      7"
            ]
          },
          "metadata": {
            "tags": []
          },
          "execution_count": 77
        }
      ]
    },
    {
      "metadata": {
        "id": "loHESQOWYXVC",
        "colab_type": "text"
      },
      "cell_type": "markdown",
      "source": [
        "## Benford Analysis"
      ]
    },
    {
      "metadata": {
        "id": "LLmqxE51Ucda",
        "colab_type": "code",
        "colab": {
          "autoexec": {
            "startup": false,
            "wait_interval": 0
          }
        }
      },
      "cell_type": "code",
      "source": [
        "import math\n",
        "benford = [math.log10(1 + 1 / d)*100 for d in range(1,10)]\n",
        "d = {'n': range(1,10), 'b': benford}\n",
        "ben_predict = pd.DataFrame(d)"
      ],
      "execution_count": 0,
      "outputs": []
    },
    {
      "metadata": {
        "id": "dICDOv9kUcdc",
        "colab_type": "code",
        "colab": {
          "autoexec": {
            "startup": false,
            "wait_interval": 0
          }
        }
      },
      "cell_type": "code",
      "source": [
        "import seaborn as sns"
      ],
      "execution_count": 0,
      "outputs": []
    },
    {
      "metadata": {
        "id": "lYru8t31Ycf4",
        "colab_type": "text"
      },
      "cell_type": "markdown",
      "source": [
        "### Posting value by vendor"
      ]
    },
    {
      "metadata": {
        "id": "FZzhAMPpUcdd",
        "colab_type": "code",
        "colab": {
          "autoexec": {
            "startup": false,
            "wait_interval": 0
          },
          "base_uri": "https://localhost:8080/",
          "height": 279
        },
        "outputId": "48a9aa88-d9bb-418f-bb5f-d21e111b081b",
        "executionInfo": {
          "status": "ok",
          "timestamp": 1524249676890,
          "user_tz": 420,
          "elapsed": 666,
          "user": {
            "displayName": "Michael Schermann",
            "photoUrl": "//lh3.googleusercontent.com/-sXyTj9V4mk8/AAAAAAAAAAI/AAAAAAAAAD4/JcGCCFE3xt8/s50-c-k-no/photo.jpg",
            "userId": "115913240975069260630"
          }
        }
      },
      "cell_type": "code",
      "source": [
        "sns.pointplot(x='first', y='count', hue='LIFNR',data=ben_vp_vendor)\n",
        "sns.pointplot(x='n', y='b' ,data=ben_predict, color='black');"
      ],
      "execution_count": 83,
      "outputs": [
        {
          "output_type": "display_data",
          "data": {
            "image/png": "[encoded data removed]",
            "text/plain": [
              "<matplotlib.figure.Figure at 0x7f9bf49787f0>"
            ]
          },
          "metadata": {
            "tags": []
          }
        }
      ]
    },
    {
      "metadata": {
        "id": "PZE_firLYhN5",
        "colab_type": "text"
      },
      "cell_type": "markdown",
      "source": [
        "### Posting value by accountant"
      ]
    },
    {
      "metadata": {
        "id": "i2uY7X8aUcdg",
        "colab_type": "code",
        "colab": {
          "autoexec": {
            "startup": false,
            "wait_interval": 0
          },
          "base_uri": "https://localhost:8080/",
          "height": 279
        },
        "outputId": "cbcd993b-6a9a-48b8-d2a8-6c751dfd9302",
        "executionInfo": {
          "status": "ok",
          "timestamp": 1524249680197,
          "user_tz": 420,
          "elapsed": 617,
          "user": {
            "displayName": "Michael Schermann",
            "photoUrl": "//lh3.googleusercontent.com/-sXyTj9V4mk8/AAAAAAAAAAI/AAAAAAAAAD4/JcGCCFE3xt8/s50-c-k-no/photo.jpg",
            "userId": "115913240975069260630"
          }
        }
      },
      "cell_type": "code",
      "source": [
        "import matplotlib.pyplot as plt\n",
        "import seaborn as sns\n",
        "\n",
        "sns.pointplot(x='first', y='count', hue='USNAM',data=ben_vp_accountant)\n",
        "sns.pointplot(x='n', y='b' ,data=ben_predict, color='black');"
      ],
      "execution_count": 84,
      "outputs": [
        {
          "output_type": "display_data",
          "data": {
            "image/png": "[encoded data removed]",
            "text/plain": [
              "<matplotlib.figure.Figure at 0x7f9bf4273278>"
            ]
          },
          "metadata": {
            "tags": []
          }
        }
      ]
    },
    {
      "metadata": {
        "id": "0azj-0PzYkzd",
        "colab_type": "text"
      },
      "cell_type": "markdown",
      "source": [
        "## Who is this GBIFAC-01 and what happened?"
      ]
    },
    {
      "metadata": {
        "id": "ktMKB4niUcdj",
        "colab_type": "code",
        "colab": {
          "autoexec": {
            "startup": false,
            "wait_interval": 0
          },
          "base_uri": "https://localhost:8080/",
          "height": 34
        },
        "outputId": "e37b5316-3b04-41f3-eeae-7631d637fa2d",
        "executionInfo": {
          "status": "ok",
          "timestamp": 1524249690104,
          "user_tz": 420,
          "elapsed": 631,
          "user": {
            "displayName": "Michael Schermann",
            "photoUrl": "//lh3.googleusercontent.com/-sXyTj9V4mk8/AAAAAAAAAAI/AAAAAAAAAD4/JcGCCFE3xt8/s50-c-k-no/photo.jpg",
            "userId": "115913240975069260630"
          }
        }
      },
      "cell_type": "code",
      "source": [
        "len(vp[(vp['USNAM']=='GBIFAC-01') & (vp['first'].isin([7,8,9])) & (vp['LIFNR'] != 125134)])"
      ],
      "execution_count": 85,
      "outputs": [
        {
          "output_type": "execute_result",
          "data": {
            "text/plain": [
              "5"
            ]
          },
          "metadata": {
            "tags": []
          },
          "execution_count": 85
        }
      ]
    },
    {
      "metadata": {
        "id": "CWz4GK4PXJMz",
        "colab_type": "code",
        "colab": {
          "autoexec": {
            "startup": false,
            "wait_interval": 0
          },
          "base_uri": "https://localhost:8080/",
          "height": 34
        },
        "outputId": "2187a4be-08c6-4f16-8325-0c391452cb12",
        "executionInfo": {
          "status": "ok",
          "timestamp": 1524249709799,
          "user_tz": 420,
          "elapsed": 322,
          "user": {
            "displayName": "Michael Schermann",
            "photoUrl": "//lh3.googleusercontent.com/-sXyTj9V4mk8/AAAAAAAAAAI/AAAAAAAAAD4/JcGCCFE3xt8/s50-c-k-no/photo.jpg",
            "userId": "115913240975069260630"
          }
        }
      },
      "cell_type": "code",
      "source": [
        "len(vp[(vp['USNAM']=='GBIFAC-01') & (vp['first'].isin([7,8,9])) & (vp['LIFNR'] == 125134)])"
      ],
      "execution_count": 86,
      "outputs": [
        {
          "output_type": "execute_result",
          "data": {
            "text/plain": [
              "42"
            ]
          },
          "metadata": {
            "tags": []
          },
          "execution_count": 86
        }
      ]
    },
    {
      "metadata": {
        "id": "35js37GJXKoV",
        "colab_type": "code",
        "colab": {
          "autoexec": {
            "startup": false,
            "wait_interval": 0
          },
          "base_uri": "https://localhost:8080/",
          "height": 34
        },
        "outputId": "d34f323f-12b2-4497-8465-b21018946106",
        "executionInfo": {
          "status": "ok",
          "timestamp": 1524249710634,
          "user_tz": 420,
          "elapsed": 334,
          "user": {
            "displayName": "Michael Schermann",
            "photoUrl": "//lh3.googleusercontent.com/-sXyTj9V4mk8/AAAAAAAAAAI/AAAAAAAAAD4/JcGCCFE3xt8/s50-c-k-no/photo.jpg",
            "userId": "115913240975069260630"
          }
        }
      },
      "cell_type": "code",
      "source": [
        "len(vp[(vp['USNAM']=='GBIFAC-01') & ~(vp['first'].isin([7,8,9])) & (vp['LIFNR'] == 125134)])"
      ],
      "execution_count": 87,
      "outputs": [
        {
          "output_type": "execute_result",
          "data": {
            "text/plain": [
              "4"
            ]
          },
          "metadata": {
            "tags": []
          },
          "execution_count": 87
        }
      ]
    },
    {
      "metadata": {
        "id": "XJG3DJvoXL9r",
        "colab_type": "code",
        "colab": {
          "autoexec": {
            "startup": false,
            "wait_interval": 0
          },
          "base_uri": "https://localhost:8080/",
          "height": 34
        },
        "outputId": "36f454c7-c663-4c46-9ec4-e48f322d60f3",
        "executionInfo": {
          "status": "ok",
          "timestamp": 1524249711857,
          "user_tz": 420,
          "elapsed": 423,
          "user": {
            "displayName": "Michael Schermann",
            "photoUrl": "//lh3.googleusercontent.com/-sXyTj9V4mk8/AAAAAAAAAAI/AAAAAAAAAD4/JcGCCFE3xt8/s50-c-k-no/photo.jpg",
            "userId": "115913240975069260630"
          }
        }
      },
      "cell_type": "code",
      "source": [
        "len(vp[(vp['USNAM']=='GBIFAC-01')])"
      ],
      "execution_count": 88,
      "outputs": [
        {
          "output_type": "execute_result",
          "data": {
            "text/plain": [
              "130"
            ]
          },
          "metadata": {
            "tags": []
          },
          "execution_count": 88
        }
      ]
    },
    {
      "metadata": {
        "id": "2X6GX2MoUcdm",
        "colab_type": "code",
        "colab": {
          "autoexec": {
            "startup": false,
            "wait_interval": 0
          },
          "base_uri": "https://localhost:8080/",
          "height": 34
        },
        "outputId": "56d3f29a-b295-45fd-8dad-99bf759f3749",
        "executionInfo": {
          "status": "ok",
          "timestamp": 1524249732411,
          "user_tz": 420,
          "elapsed": 289,
          "user": {
            "displayName": "Michael Schermann",
            "photoUrl": "//lh3.googleusercontent.com/-sXyTj9V4mk8/AAAAAAAAAAI/AAAAAAAAAD4/JcGCCFE3xt8/s50-c-k-no/photo.jpg",
            "userId": "115913240975069260630"
          }
        }
      },
      "cell_type": "code",
      "source": [
        "vp[(vp['USNAM']=='GBIFAC-01') & (vp['first'].isin([7,8,9])) & (vp['LIFNR'] == 125134)]['WRBTR'].astype(float).sum()"
      ],
      "execution_count": 91,
      "outputs": [
        {
          "output_type": "execute_result",
          "data": {
            "text/plain": [
              "3697715.58"
            ]
          },
          "metadata": {
            "tags": []
          },
          "execution_count": 91
        }
      ]
    },
    {
      "metadata": {
        "id": "t6ypLYXMUcdp",
        "colab_type": "code",
        "colab": {
          "autoexec": {
            "startup": false,
            "wait_interval": 0
          },
          "base_uri": "https://localhost:8080/",
          "height": 34
        },
        "outputId": "069ec5e0-a057-4730-895f-c26ac06027da",
        "executionInfo": {
          "status": "ok",
          "timestamp": 1524249745966,
          "user_tz": 420,
          "elapsed": 286,
          "user": {
            "displayName": "Michael Schermann",
            "photoUrl": "//lh3.googleusercontent.com/-sXyTj9V4mk8/AAAAAAAAAAI/AAAAAAAAAD4/JcGCCFE3xt8/s50-c-k-no/photo.jpg",
            "userId": "115913240975069260630"
          }
        }
      },
      "cell_type": "code",
      "source": [
        "vp[(vp['USNAM']=='GBIFAC-01') & ~(vp['first'].isin([7,8,9])) & (vp['LIFNR'] == 125134)]['WRBTR'].astype(float).sum()"
      ],
      "execution_count": 92,
      "outputs": [
        {
          "output_type": "execute_result",
          "data": {
            "text/plain": [
              "59659.58"
            ]
          },
          "metadata": {
            "tags": []
          },
          "execution_count": 92
        }
      ]
    },
    {
      "metadata": {
        "id": "EH7-zWmnXgYs",
        "colab_type": "text"
      },
      "cell_type": "markdown",
      "source": [
        "**We need to talk to GBIFAC-01!**"
      ]
    }
  ]
}